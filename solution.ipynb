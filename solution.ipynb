{
 "cells": [
  {
   "cell_type": "code",
   "execution_count": 1,
   "metadata": {},
   "outputs": [],
   "source": [
    "# Importing libraries\n",
    "import pandas as pd\n",
    "from sklearn.feature_extraction.text import TfidfVectorizer\n",
    "from sklearn.preprocessing import LabelEncoder\n",
    "from sklearn.model_selection import train_test_split\n",
    "from sklearn.preprocessing import StandardScaler\n",
    "import numpy as np\n",
    "import tensorflow as tf"
   ]
  },
  {
   "cell_type": "code",
   "execution_count": 2,
   "metadata": {},
   "outputs": [],
   "source": [
    "data = pd.read_csv(\"./data.csv\")\n",
    "\n",
    "# Categorise columns\n",
    "data['tail'] = data['tail'].apply(lambda x: 1 if x == 'yes' else 0)\n",
    "\n",
    "vectoriser = TfidfVectorizer(max_features=3000, min_df=2, max_df=0.95, ngram_range=(1, 2))\n",
    "le = LabelEncoder()\n",
    "\n",
    "# Feature: Message length\n",
    "data['message_length'] = data['message'].apply(lambda x: len(x.split()))\n",
    "\n",
    "X_numeric = data[['fingers', 'tail']].values\n",
    "X_numeric = np.hstack((X_numeric, data[['message_length']].values))\n",
    "X_text = vectoriser.fit_transform(data['message']).toarray()\n",
    "scaler = StandardScaler()\n",
    "X_numeric_scaled = scaler.fit_transform(X_numeric)\n",
    "\n",
    "encoded_data = np.concatenate((X_text, X_numeric_scaled), axis=1)\n",
    "encoded_species = le.fit_transform(data['species'])"
   ]
  },
  {
   "cell_type": "code",
   "execution_count": 3,
   "metadata": {},
   "outputs": [
    {
     "name": "stderr",
     "output_type": "stream",
     "text": [
      "c:\\Users\\ytgsg\\Desktop\\Dev\\Innov8Hackathon\\.conda\\lib\\site-packages\\keras\\src\\layers\\core\\dense.py:87: UserWarning: Do not pass an `input_shape`/`input_dim` argument to a layer. When using Sequential models, prefer using an `Input(shape)` object as the first layer in the model instead.\n",
      "  super().__init__(activity_regularizer=activity_regularizer, **kwargs)\n"
     ]
    },
    {
     "name": "stdout",
     "output_type": "stream",
     "text": [
      "Accuracy (40 128): 89.59999859333038%\n",
      "Accuracy (50, 128): 90.0%\n"
     ]
    }
   ],
   "source": [
    "X_train, X_test, y_train, y_test = train_test_split(encoded_data, encoded_species, test_size=0.1, random_state=7)\n",
    "\n",
    "def sequentialAPI(X_train, X_test, y_train, y_test, epoch, batch_size):\n",
    "  sum = 0\n",
    "  num = 10\n",
    "\n",
    "  for i in range(num):\n",
    "    model = tf.keras.Sequential([\n",
    "        tf.keras.layers.Dense(2048, activation='relu', input_shape=(X_train.shape[1],)),\n",
    "        tf.keras.layers.Dense(1024, activation='relu'),\n",
    "        tf.keras.layers.Dense(512, activation='relu'),\n",
    "        tf.keras.layers.Dense(len(le.classes_), activation='softmax')\n",
    "    ])\n",
    "\n",
    "    early_stopping = tf.keras.callbacks.EarlyStopping(monitor='val_loss', patience=5, restore_best_weights=True)\n",
    "\n",
    "    optimizer = tf.keras.optimizers.AdamW(learning_rate=0.001, weight_decay=1e-5)\n",
    "    model.compile(optimizer=optimizer, loss='sparse_categorical_crossentropy', metrics=['accuracy'])\n",
    "    model.fit(X_train, y_train, epochs=epoch, validation_data=(X_test, y_test), batch_size=batch_size, \n",
    "                callbacks=[early_stopping], \n",
    "                verbose=0)\n",
    "\n",
    "    result = model.evaluate(X_test, y_test, verbose=0)\n",
    "\n",
    "    sum += (result[1] * 100)\n",
    "\n",
    "  return (sum / num)\n",
    "\n",
    "print(f'Accuracy (40 128): {sequentialAPI(X_train, X_test, y_train, y_test, 40, 128)}%')\n",
    "print(f'Accuracy (50, 128): {sequentialAPI(X_train, X_test, y_train, y_test, 50, 128)}%')"
   ]
  },
  {
   "cell_type": "code",
   "execution_count": 5,
   "metadata": {},
   "outputs": [],
   "source": [
    "X_train, X_test, y_train, y_test = train_test_split(encoded_data, encoded_species, test_size=0.1, random_state=7)\n",
    "\n",
    "def sequentialAPI(X_train, X_test, y_train, y_test, epoch, batch_size):\n",
    "  sum = 0\n",
    "  num = 10\n",
    "\n",
    "  for i in range(num):\n",
    "    model = tf.keras.Sequential([\n",
    "        tf.keras.layers.Dense(2048, activation='relu', input_shape=(X_train.shape[1],)),\n",
    "        tf.keras.layers.Dense(1024, activation='relu'),\n",
    "        tf.keras.layers.Dense(512, activation='relu'),\n",
    "        tf.keras.layers.Dense(len(le.classes_), activation='softmax')\n",
    "    ])\n",
    "\n",
    "    early_stopping = tf.keras.callbacks.EarlyStopping(monitor='val_loss', patience=5, restore_best_weights=True)\n",
    "\n",
    "    # optimizer = tf.keras.optimizers.AdamW(learning_rate=0.001, weight_decay=1e-5)\n",
    "    model.compile(\n",
    "    #   optimizer=optimizer, \n",
    "      loss='sparse_categorical_crossentropy', metrics=['accuracy'])\n",
    "    model.fit(X_train, y_train, epochs=epoch, validation_data=(X_test, y_test), batch_size=batch_size, \n",
    "                callbacks=[early_stopping], \n",
    "                verbose=0)\n",
    "\n",
    "    result = model.evaluate(X_test, y_test, verbose=0)\n",
    "\n",
    "    sum += (result[1] * 100)\n",
    "\n",
    "  return (sum / num)\n",
    "\n",
    "print(f'Accuracy (40 128): {sequentialAPI(X_train, X_test, y_train, y_test, 40, 128)}%')\n",
    "print(f'Accuracy (50, 128): {sequentialAPI(X_train, X_test, y_train, y_test, 50, 128)}%')"
   ]
  }
 ],
 "metadata": {
  "kernelspec": {
   "display_name": "base",
   "language": "python",
   "name": "python3"
  },
  "language_info": {
   "codemirror_mode": {
    "name": "ipython",
    "version": 3
   },
   "file_extension": ".py",
   "mimetype": "text/x-python",
   "name": "python",
   "nbconvert_exporter": "python",
   "pygments_lexer": "ipython3",
   "version": "3.10.14"
  }
 },
 "nbformat": 4,
 "nbformat_minor": 2
}
